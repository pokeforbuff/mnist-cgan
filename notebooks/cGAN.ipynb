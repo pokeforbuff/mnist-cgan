{
 "cells": [
  {
   "cell_type": "markdown",
   "metadata": {
    "id": "dwQubWAOFWgN"
   },
   "source": [
    "# c-GAN"
   ]
  },
  {
   "cell_type": "code",
   "execution_count": 327,
   "metadata": {
    "id": "5m8H5miUHNDg"
   },
   "outputs": [],
   "source": [
    "import torch\n",
    "import torch.nn as nn\n",
    "from torch.nn import init\n",
    "import torchsummary\n",
    "import torchvision\n",
    "import torchvision.transforms as T\n",
    "import torch.optim as optim\n",
    "from torch.utils.data import DataLoader\n",
    "from torch.utils.data import sampler\n",
    "import torchvision.datasets as dset\n",
    "import matplotlib.pyplot as plt\n",
    "import matplotlib.gridspec as gridspec\n",
    "import numpy as np\n",
    "\n",
    "import math\n",
    "import os\n",
    "\n",
    "\n",
    "# for plotting\n",
    "plt.rcParams['figure.figsize'] = (10.0, 8.0) # set default size of plots\n",
    "plt.rcParams['font.size'] = 16\n",
    "plt.rcParams['image.interpolation'] = 'nearest'\n",
    "plt.rcParams['image.cmap'] = 'gray'"
   ]
  },
  {
   "cell_type": "markdown",
   "metadata": {
    "id": "-n8qpvuNGeLJ"
   },
   "source": [
    "# Dataset"
   ]
  },
  {
   "cell_type": "code",
   "execution_count": 328,
   "metadata": {},
   "outputs": [],
   "source": [
    "def show_images(images):\n",
    "    images = torch.reshape(\n",
    "        images, [images.shape[0], -1]\n",
    "    )  # images reshape to (batch_size, D)\n",
    "    sqrtn = int(math.ceil(math.sqrt(images.shape[0])))\n",
    "    sqrtimg = int(math.ceil(math.sqrt(images.shape[1])))\n",
    "    fig = plt.figure(figsize=(sqrtn, sqrtn))\n",
    "    gs = gridspec.GridSpec(sqrtn, sqrtn)\n",
    "    gs.update(wspace=0.05, hspace=0.05)\n",
    "\n",
    "    for i, img in enumerate(images):\n",
    "        ax = plt.subplot(gs[i])\n",
    "        plt.axis(\"off\")\n",
    "        ax.set_xticklabels([])\n",
    "        ax.set_yticklabels([])\n",
    "        ax.set_aspect(\"equal\")\n",
    "        plt.imshow(img.reshape([sqrtimg, sqrtimg]))\n",
    "    return"
   ]
  },
  {
   "cell_type": "code",
   "execution_count": 329,
   "metadata": {
    "colab": {
     "base_uri": "https://localhost:8080/"
    },
    "id": "FcFbhFakHJN5",
    "outputId": "07729480-ccc6-43f1-babb-c65479c95ad2"
   },
   "outputs": [
    {
     "data": {
      "image/png": "[encoded data removed]",
      "text/plain": [
       "<Figure size 600x600 with 36 Axes>"
      ]
     },
     "metadata": {},
     "output_type": "display_data"
    }
   ],
   "source": [
    "batch_size = 128\n",
    "mnist_train = dset.MNIST('../datasets', train=True, download=True, transform=T.ToTensor())\n",
    "loader_train = DataLoader(mnist_train, batch_size=batch_size, shuffle=True, drop_last=True, num_workers=2)\n",
    "imgs = next(loader_train.__iter__())[0].view(batch_size, 784)\n",
    "show_images(imgs[:36])"
   ]
  },
  {
   "cell_type": "markdown",
   "metadata": {
    "id": "4dajulh-7TkW"
   },
   "source": [
    "## VAE Encoder\n",
    "\n",
    "Now lets start building our fully-connected VAE network.\n",
    "Start with the encoder,\n",
    "which will take our images as input and pass them through a three Linear+ReLU layers.\n",
    "You will use the output of these layers to predict both the posterior mu and posterior log-variance using two separate linear layers (both shape (N,Z)). \n",
    "\n",
    "\n",
    "Use nn.Sequential to define the encoder, and separate Linear layers for the mu and logvar layers. In all of these layers, H will be a hidden dimension you set and will be the same across all encoder and decoder layers. Architecture for the encoder is described below:\n",
    "\n",
    " * `Flatten` (Hint: nn.Flatten)\n",
    " * Fully connected layer with input size 784 (`input_size`) and output size H\n",
    " * `ReLU`\n",
    " * Fully connected layer with input_size H and output size H\n",
    " * `ReLU`\n",
    " * Fully connected layer with input_size H and output size H\n",
    " * `ReLU`\n",
    "\n",
    "Complete the `Encoder` class by completing the `self.__init__` and `self.forward` methods.  "
   ]
  },
  {
   "cell_type": "code",
   "execution_count": 289,
   "metadata": {
    "id": "GUat8css7T5Q"
   },
   "outputs": [],
   "source": [
    "class Encoder(nn.Module):\n",
    "    def __init__(self, input_size, hidden_dim):\n",
    "        super().__init__()\n",
    "\n",
    "        # ==== BEGIN SOLUTION CODE ====        \n",
    "        self._encoder = nn.Sequential(\n",
    "          nn.Flatten(),\n",
    "          nn.Linear(input_size, hidden_dim),\n",
    "          nn.ReLU(),\n",
    "          nn.Linear(hidden_dim, hidden_dim),\n",
    "          nn.ReLU(),\n",
    "          nn.Linear(hidden_dim, hidden_dim),\n",
    "          nn.ReLU()\n",
    "        )\n",
    "        # ==== END SOLUTION CODE ====\n",
    "\n",
    "    def forward(self, x):\n",
    "        '''\n",
    "        Use the self._encoder to encode the image to the hidden dimension\n",
    "        \n",
    "        Inputs:\n",
    "        - x: Tensor of shape (N, 1, H, W ) where H * W = input_size\n",
    "\n",
    "        Returns:\n",
    "        - h: Tensor of shape (N , hidden_dim)\n",
    "        '''\n",
    "        h = None\n",
    "        # ==== BEGIN SOLUTION CODE ====\n",
    "        h = self._encoder(x)\n",
    "        # ==== END SOLUTION CODE ====\n",
    "        return h"
   ]
  },
  {
   "cell_type": "markdown",
   "metadata": {
    "id": "ooHtzwWLbUjQ"
   },
   "source": [
    "*Implement* a sanity check in the following cell to run a `(32, 1, 28, 28)` random tensor through an encoder initialized with size `786` and `96` dim hidden dimension. The output should be `(32, 96)`. "
   ]
  },
  {
   "cell_type": "code",
   "execution_count": 290,
   "metadata": {
    "colab": {
     "base_uri": "https://localhost:8080/"
    },
    "id": "PRCA7vc_bVgZ",
    "outputId": "b744f257-5f13-4dc7-ec38-947f2c253c56"
   },
   "outputs": [
    {
     "name": "stdout",
     "output_type": "stream",
     "text": [
      "torch.Size([32, 1, 28, 28])\n",
      "torch.Size([32, 96])\n"
     ]
    }
   ],
   "source": [
    "# ==== BEGIN SOLUTION CODE ====\n",
    "encoder = Encoder(input_size=784, hidden_dim=96)\n",
    "input = torch.rand(32, 1, 28, 28)\n",
    "print(input.size())\n",
    "output = encoder(input)\n",
    "print(output.size())\n",
    "# ==== END SOLUTION CODE ===="
   ]
  },
  {
   "cell_type": "markdown",
   "metadata": {
    "id": "RkMN6F4g651k"
   },
   "source": [
    "## VAE Decoder\n",
    "\n",
    "**Implement** the Decoder, which will take the latent space representation and generate a reconstructed image. The architecture is as follows: \n",
    "\n",
    " * Fully connected layer with input size as the latent size (Z) and output size hidden dim (H)\n",
    " * `ReLU`\n",
    " * Fully connected layer with input_size H and output size H\n",
    " * `ReLU`\n",
    " * Fully connected layer with input_size H and output size H\n",
    " * `ReLU`\n",
    " * Fully connected layer with input_size H and output size (`output_size` = 784)\n",
    " * `Sigmoid`\n",
    " * `Unflatten` (nn.Unflatten: shape=(1,28,28))\n",
    "\n",
    "Use `nn.Sequential` to define the architecture in `self._decoder`. \n",
    "\n",
    "Complete the `Decoder` class by completing the `self.__init__` and `self.forward` methods.  \n"
   ]
  },
  {
   "cell_type": "code",
   "execution_count": 291,
   "metadata": {
    "id": "0H8urU548HSK"
   },
   "outputs": [],
   "source": [
    "class Decoder(nn.Module):\n",
    "    def __init__(self, latent_size, hidden_dim, height=28, width=28):\n",
    "        super().__init__()\n",
    "        self._decoder = None\n",
    "        self.latent_size = latent_size\n",
    "        self.hidden_dim = hidden_dim\n",
    "        self.height = height\n",
    "        self.width = width\n",
    "        self.output_size = height * width\n",
    "\n",
    "        # ==== BEGIN SOLUTION CODE ==== \n",
    "        self._decoder = nn.Sequential(\n",
    "          nn.Linear(latent_size, hidden_dim),\n",
    "          nn.ReLU(),\n",
    "          nn.Linear(hidden_dim, hidden_dim),\n",
    "          nn.ReLU(),\n",
    "          nn.Linear(hidden_dim, hidden_dim),\n",
    "          nn.ReLU(),\n",
    "          nn.Linear(hidden_dim, self.output_size),\n",
    "          nn.Sigmoid(),\n",
    "          nn.Unflatten(1, (1, self.height, self.width))\n",
    "        )\n",
    "        # ==== END SOLUTION CODE ====\n",
    "\n",
    "\n",
    "    def forward(self, z):\n",
    "        \"\"\"\n",
    "        Use the self._decoder to reconstruct the image\n",
    "        \n",
    "        Inputs:\n",
    "        - Z: Tensor of shape (N, Z) giving the latent vector\n",
    "\n",
    "        Returns:\n",
    "        - x_reconstructed: Reconstruced input data of shape (N,1,H,W)\n",
    "          whete, H is self.height, and W is self.width\n",
    "        \"\"\"\n",
    "        x_reconstructed = None\n",
    "\n",
    "        # ==== BEGIN SOLUTION CODE ====\n",
    "        x_reconstructed = self._decoder(z)\n",
    "        # ==== END SOLUTION CODE ====\n",
    "        return x_reconstructed    \n"
   ]
  },
  {
   "cell_type": "markdown",
   "metadata": {
    "id": "R3aIwq59bgLo"
   },
   "source": [
    "*Implement* a sanity check in the following cell to run a `(16, 32)` random tensor through a decoder initialized with a `32` and `96` dim latent space and hidden dimension respectively. The output should be `(16, 1, 28, 28)`"
   ]
  },
  {
   "cell_type": "code",
   "execution_count": 292,
   "metadata": {
    "colab": {
     "base_uri": "https://localhost:8080/"
    },
    "id": "VdV2-o4lbgWe",
    "outputId": "f20087e1-80c8-4c39-87c6-5aaf8ed54098"
   },
   "outputs": [
    {
     "name": "stdout",
     "output_type": "stream",
     "text": [
      "torch.Size([16, 32])\n",
      "torch.Size([16, 1, 28, 28])\n"
     ]
    }
   ],
   "source": [
    "# ==== BEGIN SOLUTION CODE ====\n",
    "decoder = Decoder(latent_size=32, hidden_dim=96)\n",
    "input = torch.rand(16, 32)\n",
    "print(input.size())\n",
    "output = decoder(input)\n",
    "print(output.size())\n",
    "# ==== END SOLUTION CODE ===="
   ]
  },
  {
   "cell_type": "markdown",
   "metadata": {
    "id": "_CQ5zLqr8Hu_"
   },
   "source": [
    "## Reparameterization Trick\n",
    "\n",
    "Apply a reparametrization trick in order to estimate the posterior $z$ during our forward pass, given the $\\mu$ and $log(\\sigma^2)$ estimated by the encoder.\n",
    "\n",
    "In order to be able to backprop through the probabilistic latent space, we sample initial random data $\\epsilon$ from a fixed distrubtion, and compute $z$ as a function of ($\\epsilon$, $\\log(\\sigma^2)$, $\\mu$). Specifically:\n",
    "\n",
    "$z = \\mu + \\sigma\\epsilon$\n",
    "\n",
    "We can easily find the partial derivatives w.r.t $\\mu$ and $\\sigma^2$ and backpropagate through $z$. If $\\epsilon = \\mathcal{N} (0,1)$, then it's easy to verify that the result of our forward pass calculation will be a distribution centered at $\\mu$ with variance $\\sigma^2$.\n",
    "\n",
    "Not that the encoder outputs $\\log(\\sigma^2))$. So you will need to transform the output first before applying the reparameterization trick. \n"
   ]
  },
  {
   "cell_type": "markdown",
   "metadata": {
    "id": "34ez_hoZR3_k"
   },
   "source": [
    "**Implement** the reparametrize function."
   ]
  },
  {
   "cell_type": "code",
   "execution_count": null,
   "metadata": {
    "id": "sHpIwF8LoDyV"
   },
   "outputs": [],
   "source": [
    "def reparameterize(mu, logvar):\n",
    "    \"\"\"\n",
    "    Differentiably sample random Gaussian data with specified mean and variance\n",
    "    using the reparameterization trick.\n",
    "\n",
    "    We want to sample a random number z from a Gaussian distribution with\n",
    "    mean mu and standard deviation sigma, such that we can backpropagate from the\n",
    "    z back to mu and sigma. We can achieve this by first sampling a random value\n",
    "    epsilon from a standard Gaussian distribution with zero mean and unit variance,\n",
    "    then setting z = sigma * epsilon + mu.\n",
    "\n",
    "    For more stable training when integrating this function into a neural network,\n",
    "    it helps to pass this function the log of the variance of the distribution from\n",
    "    which to sample, rather than specifying the standard deviation directly.\n",
    "\n",
    "    Inputs:\n",
    "    - mu: Tensor of shape (N, Z) giving means\n",
    "    - logvar: Tensor of shape (N, Z) giving log-variances\n",
    "\n",
    "    Returns:\n",
    "    - z: Estimated latent vectors, where z[i, j] is a random value sampled from a\n",
    "      Gaussian with mean mu[i, j] and log-variance logvar[i, j].\n",
    "    \"\"\"\n",
    "    z = None\n",
    "    # ==== BEGIN SOLUTION CODE ====\n",
    "    epsilon = torch.randn_like(logvar)\n",
    "    sigma = torch.exp(logvar / 2)\n",
    "    z = mu + sigma * epsilon\n",
    "    # ==== END SOLUTION CODE ====\n",
    "    \n",
    "    return z"
   ]
  },
  {
   "cell_type": "markdown",
   "metadata": {
    "id": "30ZTlVuOoDNk"
   },
   "source": [
    "## VAE Model\n",
    "\n"
   ]
  },
  {
   "cell_type": "markdown",
   "metadata": {
    "id": "jBeyDYjKKUjF"
   },
   "source": [
    "**Implement** the following cell and complete the implementation of the VAE class. You will need to complete the `self.__init__`, and `self.forward` methods. \n",
    "\n",
    "To complete the `self.__init__` method: \n",
    "- Define self.encoder which should be a network that\n",
    "inputs a batch of input images of shape (N, 1, H, W) into a batch of hidden features of shape (N, H_d). Use the `Encoder` class you defined before. \n",
    "\n",
    "- Set up self.mu_layer and self.logvar_layer to be a pair of linear layers that map the hidden features into estimates of the mean and log-variance of the posterior over the latent vectors; the mean and log-variance estimates will both be tensors of shape (N, Z). \n",
    "Note that we are calling this the 'logvar' layer because we'll use the log-variance (instead of variance or standard deviation) to stabilize training. This will specifically matter more when you compute reparametrization and the loss function. \n",
    "\n",
    "- Define self.decoder which should be a network that inputs a batch of latent vectors of shape (N, Z) and outputs a tensor of estimated images of shape (N, 1, H, W). Use the `Decoder` class you defined before. \n",
    "\n",
    "To complete the `self.forward` method:\n",
    "\n",
    "- Get the hidden dimension vector by calling passing the input through the encoder\n",
    "\n",
    "- Use `self.mu_layer` and `self.logvag_layer` to obtain the posterior mu and logvar\n",
    "\n",
    "- Use the `reparameterize` function to compute the latent vector z\n",
    "\n",
    "- Use the decoder to reconstruct the input \n",
    "\n",
    "- Return the reconstructed input, the posterior mean, and the posterior logvar. "
   ]
  },
  {
   "cell_type": "code",
   "execution_count": null,
   "metadata": {
    "id": "MNJgTfGR7tJ7"
   },
   "outputs": [],
   "source": [
    "class VAE(nn.Module):\n",
    "    def __init__(self, height, width, hidden_dim=96, latent_size=16):\n",
    "        super(VAE, self).__init__()\n",
    "        self.height = height\n",
    "        self.width = width\n",
    "        self.input_size = height * width  # H*W\n",
    "        self.latent_size = latent_size  # Z\n",
    "        self.hidden_dim = hidden_dim  \n",
    "        self.encoder = None\n",
    "        self.mu_layer = None\n",
    "        self.logvar_layer = None\n",
    "        self.decoder = None\n",
    "\n",
    "        # ==== BEGIN SOLUTION CODE ====\n",
    "        self.encoder = Encoder(self.input_size, self.hidden_dim)\n",
    "        self.mu_layer = nn.Linear(hidden_dim, self.latent_size)\n",
    "        self.logvar_layer = nn.Linear(hidden_dim, self.latent_size)\n",
    "        self.decoder = Decoder(self.latent_size, self.hidden_dim)\n",
    "        # ==== END SOLUTION CODE ====\n",
    "        \n",
    "\n",
    "    def forward(self, x):\n",
    "        \"\"\"\n",
    "        Performs forward pass through VAE model by passing image through\n",
    "        encoder, reparametrize trick, and decoder models\n",
    "\n",
    "        Inputs:\n",
    "        - x: Batch of input images of shape (N, 1, H, W)\n",
    "\n",
    "        Returns:\n",
    "        - x_hat: Reconstruced input data of shape (N,1,H,W)\n",
    "        - mu: Matrix representing estimated posterior mu (N, Z), with Z latent\n",
    "          space dimension\n",
    "        - logvar: Matrix representing estimataed variance in log-space (N, Z),\n",
    "          with Z latent space dimension\n",
    "        \"\"\"\n",
    "        x_hat = None\n",
    "        mu = None\n",
    "        logvar = None\n",
    "        # ==== BEGIN SOLUTION CODE ====\n",
    "        h = self.encoder(x)\n",
    "        mu = self.mu_layer(h)\n",
    "        logvar = self.logvar_layer(h)\n",
    "        z = reparameterize(mu, logvar)\n",
    "        x_hat = self.decoder(z)\n",
    "        # ==== END SOLUTION CODE ====\n",
    "        return x_hat, mu, logvar"
   ]
  },
  {
   "cell_type": "markdown",
   "metadata": {
    "id": "IxCnOuvOoEDi"
   },
   "source": [
    "## VAE Loss\n",
    "\n",
    "Before we're able to train our final model, we'll need to define our loss function. As seen below, the loss function for VAEs contains two terms: A reconstruction loss term (left) and KL divergence term (right). \n",
    "\n",
    "$$-E_{Z~q_{\\phi}(z|x)}[log p_{\\theta}(x|z)] + D_{KL}(q_{\\phi}(z|x), p(z)))$$\n",
    "\n",
    "Note that this is the negative of the variational lowerbound shown in lecture--this ensures that when we are minimizing this loss term, we're maximizing the variational lowerbound. The reconstruction loss term can be computed by simply using the binary cross entropy loss between the original input pixels and the output pixels of our decoder (Hint: `nn.functional.binary_cross_entropy` but choose the correct reduction). The KL divergence term works to force the latent space distribution to be close to a prior distribution (we're using a standard normal gaussian as our prior).\n",
    "\n",
    "To help you out, we've derived an unvectorized form of the KL divergence term for you.\n",
    "Suppose that $q_\\phi(z|x)$ is a $Z$-dimensional diagonal Gaussian with mean $\\mu_{z|x}$ of shape $(Z,)$ and standard deviation $\\sigma_{z|x}$ of shape $(Z,)$, and that $p(z)$ is a $Z$-dimensional Gaussian with zero mean and unit variance. Then we can write the KL divergence term as:\n",
    "\n",
    "$$D_{KL}(q_{\\phi}(z|x), p(z))) = -\\frac{1}{2} \\sum_{j=1}^{Z} (1 + log(\\sigma_{z|x}^2)_{j} - (\\mu_{z|x})^2_{j} - (\\sigma_{z|x})^2_{j})$$\n",
    "\n",
    "**Implement** this loss that also operates on minibatches.\n",
    "You should average the loss across samples in the minibatch.\n",
    "\n"
   ]
  },
  {
   "cell_type": "code",
   "execution_count": null,
   "metadata": {
    "id": "KYF442FC8N_n"
   },
   "outputs": [],
   "source": [
    "def VAE_Loss(x, x_reconstructed, mu, logvar):\n",
    "  loss = None\n",
    "  # ==== BEGIN SOLUTION CODE ====\n",
    "  reconstruction_loss = nn.functional.binary_cross_entropy(x_reconstructed, x, reduction='sum')\n",
    "  kl_divergence_loss = -0.5 * torch.sum(1 + logvar - mu.pow(2) - logvar.exp())\n",
    "  loss = (reconstruction_loss + kl_divergence_loss)\n",
    "  # ==== END SOLUTION CODE ====\n",
    "  return loss / 128"
   ]
  },
  {
   "cell_type": "markdown",
   "metadata": {
    "id": "3NK9F82a8OXt"
   },
   "source": [
    "## VAE Training\n",
    "\n",
    "In the following cell, define a VAE and train on the training set. \n",
    "\n",
    "The VAE training algorithm is as follows:\n",
    "\n",
    "1. Instantiate a `VAE` \n",
    "    - Suggested: hidden_dim = 96, latent_dim = 16\n",
    "2. Define a vae optimizer\n",
    "    - Suggested: ADAM with lr .001\n",
    "3. For each batch of data;\n",
    "    - Pass the input through the VAE to get the reconstructed input, the mean and log-var approximate of the posterior\n",
    "    - Calculate the loss using the `VAE_Loss` \n",
    "    - Zero the gradients, propagate the loss backwards, and update the  weights using the optimizer\n",
    "\n",
    "4. Repeat 3, `num_epoch` times\n",
    "    - Suggested: 10 times. \n",
    "\n",
    "*Following the suggested hyper-parameters, training takes approximately 2 minutes.* "
   ]
  },
  {
   "cell_type": "code",
   "execution_count": null,
   "metadata": {
    "colab": {
     "base_uri": "https://localhost:8080/"
    },
    "id": "WLaczWut8Qvq",
    "outputId": "706a8fcb-9929-4902-dd13-ac979d84541a"
   },
   "outputs": [],
   "source": [
    "# ==== BEGIN SOLUTION CODE ====\n",
    "vae = VAE(height=28, width=28)\n",
    "num_epochs = 10\n",
    "learning_rate = 0.001\n",
    "optimizer = optim.Adam(vae.parameters(), lr=learning_rate)\n",
    "vae.train()\n",
    "for epoch in range(num_epochs):\n",
    "  for _,train_batch in enumerate(loader_train):\n",
    "    train_batch = train_batch[0]\n",
    "    x_out, mu, logvar = vae(train_batch)\n",
    "    loss = VAE_Loss(train_batch, x_out, mu, logvar)\n",
    "    optimizer.zero_grad()\n",
    "    loss.backward()\n",
    "    optimizer.step()\n",
    "# ==== END SOLUTION CODE ===="
   ]
  },
  {
   "cell_type": "markdown",
   "metadata": {
    "id": "8DgkGJxk8RQw"
   },
   "source": [
    "## Latent Interpolation and Visualization\n"
   ]
  },
  {
   "cell_type": "markdown",
   "metadata": {
    "id": "wBVQw2hRXAPD"
   },
   "source": [
    "### Generated Image Visualization\n",
    "\n",
    "**Implement** the following cell to generate 36 random samples from your previously trained VAE model and visualize the outputs. "
   ]
  },
  {
   "cell_type": "code",
   "execution_count": null,
   "metadata": {
    "colab": {
     "base_uri": "https://localhost:8080/",
     "height": 357
    },
    "id": "8g7jiyfUXAed",
    "outputId": "1f524c09-d6de-41ea-bd19-be80aa521942"
   },
   "outputs": [],
   "source": [
    "# ==== BEGIN SOLUTION CODE ====\n",
    "generated_images = torch.Tensor()\n",
    "for i in range(36):\n",
    "  img = loader_train.dataset[i][0].unsqueeze(0)\n",
    "  vae.eval()\n",
    "  z = torch.normal(0, 1, size=(1, 16))\n",
    "  with torch.no_grad():\n",
    "      generated_image  = vae.decoder(z).view(1, 784)\n",
    "  generated_images = torch.cat((generated_images, generated_image), 0)\n",
    "show_images(generated_images)\n",
    "# ==== END SOLUTION CODE ===="
   ]
  },
  {
   "cell_type": "markdown",
   "metadata": {
    "id": "Hx1bWmFcPiev"
   },
   "source": [
    "### Latent Interpolation\n",
    "\n",
    "**Implement** the following cell to perform interpolation in latent space. Generate random latent vectors $z_0$ and $z_1$, and linearly interpolate between them; run each interpolated vector through the trained decoder to produce an image.\n",
    "\n",
    "$$\n",
    "z_{\\mathrm{interpolate}} = r_1*z_1 + (1-r_2)*z_2\n",
    "$$\n",
    "\n",
    "Take 10 uniformly spaced samples for $r_1$ and $r_2$ in the range [0,1]. \n",
    "\n",
    "Each row of the figure should interpolates between two random vectors. For the most part the model should exhibit smooth transitions along each row, demonstrating that the model has learned something nontrivial about the underlying spatial structure of the digits it is modeling.\n",
    "\n",
    "You should use the helper plotting function. You should have a 10x10 grid of images. "
   ]
  },
  {
   "cell_type": "code",
   "execution_count": null,
   "metadata": {
    "colab": {
     "base_uri": "https://localhost:8080/",
     "height": 538
    },
    "id": "Fuc6BQ_o8YLl",
    "outputId": "598571c3-f6be-4750-b1bb-7f874b06c5f8"
   },
   "outputs": [],
   "source": [
    "# ==== BEGIN SOLUTION CODE ====\n",
    "n = 10\n",
    "range = (0.0, 1.0)\n",
    "z1 = torch.normal(0, 1, size=(1, 16))\n",
    "z2 = torch.normal(0, 1, size=(1, 16))\n",
    "r1_samples = np.linspace(*range, num=n)\n",
    "r2_samples = np.linspace(*range, num=n)\n",
    "plt.figure(figsize=(20,8.5))\n",
    "w = 28\n",
    "img = np.zeros((n*w, n*w))\n",
    "for i, r1 in enumerate(r1_samples):\n",
    "    for j, r2 in enumerate(r2_samples):\n",
    "        z_interpolate = torch.mul(z1, r1) + torch.mul(z2, 1 - r2)\n",
    "        with torch.no_grad():\n",
    "          generated_image = vae.decoder(z_interpolate).view(28, 28)\n",
    "        img[(n - 1 - i) * w : (n - 1 - i + 1) * w, j * w : (j + 1) * w] = generated_image\n",
    "plt.imshow(img, extent=[*range, *range], cmap='gist_gray')\n",
    "# ==== END SOLUTION CODE ===="
   ]
  },
  {
   "cell_type": "markdown",
   "metadata": {
    "id": "u_hkjZG0HCNX"
   },
   "source": [
    "# Generative Autoencoder"
   ]
  },
  {
   "cell_type": "markdown",
   "metadata": {
    "id": "It-w4CH_K6ha"
   },
   "source": [
    "## Discriminator"
   ]
  },
  {
   "cell_type": "code",
   "execution_count": 330,
   "metadata": {
    "id": "bqPzkX32JkMk"
   },
   "outputs": [],
   "source": [
    "class Discriminator(nn.Module):\n",
    "  def __init__(self):\n",
    "    super().__init__()\n",
    "    self.embedding_layer = nn.Embedding(10, 10)\n",
    "    self.linear_layer = nn.Linear(10, 28 * 28 * 1)\n",
    "    self.width = 28\n",
    "    self.height = 28\n",
    "    self.layers = nn.Sequential(\n",
    "      nn.Unflatten(1, (1, self.height * 2, self.width)),\n",
    "      nn.Conv2d(1, 32, 5),\n",
    "      nn.LeakyReLU(negative_slope=0.01),\n",
    "      nn.MaxPool2d(2, stride=2),\n",
    "      nn.Conv2d(32, 64, 5),\n",
    "      nn.LeakyReLU(negative_slope=0.01),\n",
    "      nn.MaxPool2d(2, stride=2),\n",
    "      nn.Flatten(),\n",
    "      nn.Linear(11 * 4 * 64, 11 * 4 * 64),\n",
    "      nn.LeakyReLU(negative_slope=0.01),\n",
    "      nn.Linear(11 * 4 * 64, 1)\n",
    "    )\n",
    "\n",
    "  def forward(self, input_distribution, labels):\n",
    "    logits = None\n",
    "    labels = self.embedding_layer(labels)\n",
    "    labels = self.linear_layer(labels)\n",
    "    input_distribution = torch.cat([input_distribution, labels], 1)\n",
    "    logits = self.layers(input_distribution)\n",
    "    return logits  "
   ]
  },
  {
   "cell_type": "markdown",
   "metadata": {
    "id": "l9KvOcmwcWKK"
   },
   "source": [
    "Input a random sample with shape `(32, 784)` to a discriminator and check if the output is `(32,1)`. "
   ]
  },
  {
   "cell_type": "code",
   "execution_count": 331,
   "metadata": {
    "colab": {
     "base_uri": "https://localhost:8080/"
    },
    "id": "k45H8iAwcWR-",
    "outputId": "36b2be01-3b76-49d0-80aa-c895b737cc01"
   },
   "outputs": [
    {
     "name": "stdout",
     "output_type": "stream",
     "text": [
      "torch.Size([32, 784])\n",
      "torch.Size([32, 1])\n"
     ]
    }
   ],
   "source": [
    "labels = torch.LongTensor(np.random.randint(0, 10, 32))\n",
    "discriminator = Discriminator()\n",
    "input = torch.rand(32, 784)\n",
    "output = discriminator(input, labels)\n",
    "print(input.size())\n",
    "print(output.size())"
   ]
  },
  {
   "cell_type": "markdown",
   "metadata": {
    "id": "5h_zIBQ-LQuk"
   },
   "source": [
    "## Generator"
   ]
  },
  {
   "cell_type": "code",
   "execution_count": 332,
   "metadata": {
    "id": "5SHZAH1ILRB7"
   },
   "outputs": [],
   "source": [
    "class Generator(nn.Module):\n",
    "    def __init__(self, noise_dim):\n",
    "        super().__init__()\n",
    "        self.embedding_layer = nn.Embedding(10, 10)\n",
    "        self.layers = nn.Sequential(\n",
    "          nn.Linear(noise_dim + 10, 1024),\n",
    "          nn.ReLU(),\n",
    "          nn.BatchNorm1d(1024),\n",
    "          nn.Linear(1024, 7 * 7 * 128),\n",
    "          nn.ReLU(),\n",
    "          nn.BatchNorm1d(7 * 7 * 128),\n",
    "          nn.Unflatten(1, (128, 7, 7)),\n",
    "          nn.ConvTranspose2d(128, 64, 4, stride=2, padding=1),\n",
    "          nn.ReLU(),\n",
    "          nn.BatchNorm2d(64),\n",
    "          nn.ConvTranspose2d(64, 1, 4, stride=2, padding=1),\n",
    "          nn.Tanh(),\n",
    "          nn.Flatten()\n",
    "        )\n",
    "\n",
    "    def forward(self, random_noise, labels):\n",
    "        fake_image = None\n",
    "        labels = self.embedding_layer(labels)\n",
    "        random_noise = torch.cat([random_noise, labels], 1)\n",
    "        fake_image = self.layers(random_noise)\n",
    "        return fake_image"
   ]
  },
  {
   "cell_type": "markdown",
   "metadata": {
    "id": "yI5XQjgDcgaH"
   },
   "source": [
    "Input a random sample with shape `(32, 96)` to a Generator and check if the output is `(32, 784)`. "
   ]
  },
  {
   "cell_type": "code",
   "execution_count": 333,
   "metadata": {
    "colab": {
     "base_uri": "https://localhost:8080/"
    },
    "id": "UUJHBimocgnA",
    "outputId": "381f17db-aa42-4fbc-e4a0-150de4a49737"
   },
   "outputs": [
    {
     "name": "stdout",
     "output_type": "stream",
     "text": [
      "torch.Size([32, 96])\n",
      "torch.Size([32, 784])\n"
     ]
    }
   ],
   "source": [
    "labels = torch.LongTensor(np.random.randint(0, 10, 32))\n",
    "generator = Generator(noise_dim=96)\n",
    "input = torch.rand(32, 96)\n",
    "output = generator(input, labels)\n",
    "print(input.size())\n",
    "print(output.size())"
   ]
  },
  {
   "cell_type": "markdown",
   "metadata": {
    "id": "qGy410jr8dhv"
   },
   "source": [
    "## GAN Loss"
   ]
  },
  {
   "cell_type": "markdown",
   "metadata": {
    "id": "otp3Mig8v-ZE"
   },
   "source": [
    "### Discriminator Loss"
   ]
  },
  {
   "cell_type": "code",
   "execution_count": 334,
   "metadata": {
    "id": "zEsr_eQfv-io"
   },
   "outputs": [],
   "source": [
    "def Discriminator_Loss(logits_real, logits_fake, device='cuda', dtype=torch.float):\n",
    "    loss = None\n",
    "    true_labels = torch.ones(logits_real.size(), dtype=dtype, device=device)\n",
    "    fake_labels = torch.zeros(logits_fake.size(), dtype=dtype, device=device)\n",
    "    loss_real = nn.functional.binary_cross_entropy_with_logits(logits_real, true_labels)\n",
    "    loss_fake = nn.functional.binary_cross_entropy_with_logits(logits_fake, fake_labels)\n",
    "    loss = loss_real + loss_fake\n",
    "    return loss"
   ]
  },
  {
   "cell_type": "markdown",
   "metadata": {
    "id": "VOCFIqVlv8CW"
   },
   "source": [
    "### Generator Loss"
   ]
  },
  {
   "cell_type": "code",
   "execution_count": 335,
   "metadata": {
    "id": "dUMmThXR8d5y"
   },
   "outputs": [],
   "source": [
    "def Generator_Loss(logits_fake, device='cuda', dtype=torch.float):\n",
    "    loss = None\n",
    "    true_labels = torch.ones(logits_fake.size(), dtype=dtype, device=device)\n",
    "    loss = nn.functional.binary_cross_entropy_with_logits(logits_fake, true_labels)\n",
    "    return loss"
   ]
  },
  {
   "cell_type": "markdown",
   "metadata": {
    "id": "wh_Ar4azYhfq"
   },
   "source": [
    "## Weight initializer"
   ]
  },
  {
   "cell_type": "code",
   "execution_count": 336,
   "metadata": {
    "id": "5PUDSkRqYhsK"
   },
   "outputs": [],
   "source": [
    "def initialize_weights(m):\n",
    "    \"\"\"Initializes the weights of a torch.nn model using xavier initialization\"\"\"\n",
    "    if isinstance(m, nn.Linear) or isinstance(m, nn.ConvTranspose2d):\n",
    "        nn.init.xavier_uniform_(m.weight.data)"
   ]
  },
  {
   "cell_type": "markdown",
   "metadata": {
    "id": "Ftl-tPPX8eek"
   },
   "source": [
    "## GAN Training"
   ]
  },
  {
   "cell_type": "code",
   "execution_count": 337,
   "metadata": {
    "id": "FrAIy3EQexYC"
   },
   "outputs": [],
   "source": [
    "def generate_random_noise_in_range(shape, r1, r2, dtype, device):\n",
    "  return (r1 - r2) * torch.rand(shape, dtype=dtype, device=device) + r2"
   ]
  },
  {
   "cell_type": "code",
   "execution_count": null,
   "metadata": {
    "colab": {
     "base_uri": "https://localhost:8080/"
    },
    "id": "mAwEtr5E8ewp",
    "outputId": "599a8da3-1f28-4aa5-ff31-57a8e8abc50c"
   },
   "outputs": [],
   "source": [
    "generator_state_dict_path = '../models/cGAN-generator.pth'\n",
    "\n",
    "batch_size = 128\n",
    "num_epochs = 50\n",
    "latent_dim = 96\n",
    "learning_rate = 0.001\n",
    "\n",
    "dtype = torch.float\n",
    "device = 'cuda' if torch.cuda.is_available() else 'cpu'\n",
    "print(f'DEVICE USED: {device}')\n",
    "\n",
    "if os.path.isfile(generator_state_dict_path):\n",
    "    # resuing pre-trained generator\n",
    "    print('Found a pre-trained generator')\n",
    "    generator = Generator(noise_dim=latent_dim).to(device)\n",
    "    generator.load_state_dict(torch.load(generator_state_dict_path))\n",
    "else:    \n",
    "    # training model from scratch\n",
    "    print('Did not find a pre-trained generator. Retraining from scratch')\n",
    "\n",
    "    discriminator = Discriminator().apply(initialize_weights).to(device)\n",
    "    generator = Generator(latent_dim).apply(initialize_weights).to(device)\n",
    "\n",
    "    optimizer_discriminator = optim.Adam(discriminator.parameters(), lr=learning_rate, betas=(0.5, 0.999))\n",
    "    optimizer_generator = optim.Adam(generator.parameters(), lr=learning_rate, betas=(0.5, 0.999))\n",
    "\n",
    "    for epoch in range(num_epochs):\n",
    "        print(f'Training Epoch: {epoch}')\n",
    "        for x, real_labels in loader_train:\n",
    "            # Drop the last batch with irregular size to simplify the code\n",
    "            if len(x) != batch_size:\n",
    "              continue\n",
    "            # numerical trick to increase distance between digit pixels and empty pixels\n",
    "            real_data = x.view(-1, 784).to(device)\n",
    "            real_data = 2 * (real_data - 0.5)\n",
    "            real_labels = real_labels.to(device)\n",
    "\n",
    "            # DISCRIMINATOR PART\n",
    "            discriminator.zero_grad()\n",
    "            logits_real = discriminator(real_data, real_labels)\n",
    "            random_noise = generate_random_noise_in_range((batch_size, latent_dim), r1=-1, r2=1, dtype=dtype, device=device)\n",
    "            if device == 'cuda':\n",
    "                fake_labels = torch.cuda.LongTensor(np.random.randint(0, 10, batch_size))\n",
    "            else:\n",
    "                fake_labels = torch.LongTensor(np.random.randint(0, 10, batch_size))\n",
    "            fake_data = generator(random_noise, fake_labels)\n",
    "            # detach the gradients so that the Generator's gradients are not optimized in this training phase\n",
    "            logits_fake = discriminator(fake_data.detach(), fake_labels.detach())\n",
    "            discriminator_loss = Discriminator_Loss(logits_real, logits_fake, device, dtype)\n",
    "            discriminator_loss.backward()\n",
    "            optimizer_discriminator.step()\n",
    "\n",
    "            # GENERATOR PART\n",
    "            generator.zero_grad()\n",
    "            random_noise = generate_random_noise_in_range((batch_size, latent_dim), r1=-1, r2=1, dtype=dtype, device=device)\n",
    "            if device == 'cuda':\n",
    "                fake_labels = torch.cuda.LongTensor(np.random.randint(0, 10, batch_size))\n",
    "            else:\n",
    "                fake_labels = torch.LongTensor(np.random.randint(0, 10, batch_size))\n",
    "            fake_data = generator(random_noise, fake_labels)\n",
    "            logits_fake = discriminator(fake_data, fake_labels)\n",
    "            generator_loss = Generator_Loss(logits_fake, device, dtype)\n",
    "            generator_loss.backward()\n",
    "            optimizer_generator.step()\n",
    "    torch.save(generator.state_dict(), generator_state_dict_path)"
   ]
  },
  {
   "cell_type": "markdown",
   "metadata": {
    "id": "6kcJettw8fBZ"
   },
   "source": [
    "## Visualization Functions\n"
   ]
  },
  {
   "cell_type": "code",
   "execution_count": 389,
   "metadata": {},
   "outputs": [],
   "source": [
    "def write_numbers(number_array):\n",
    "    generated_images = torch.Tensor()\n",
    "    for number in number_array:\n",
    "        generator.eval()\n",
    "        input_noise = generate_random_noise_in_range((1, latent_dim), r1=-1, r2=1, dtype=dtype, device=device)\n",
    "        if device == 'cuda':\n",
    "            label = torch.cuda.LongTensor([number,])\n",
    "        else:\n",
    "            label = torch.LongTensor([number,])\n",
    "        with torch.no_grad():\n",
    "            generated_image  = generator(input_noise, label).to('cpu')\n",
    "        generated_images = torch.cat((generated_images, generated_image), 0)\n",
    "    \n",
    "    n = len(number_array)\n",
    "    image_dim = int(math.ceil(math.sqrt(generated_images.shape[1])))\n",
    "    fig = plt.figure(figsize=(1, n))\n",
    "    gs = gridspec.GridSpec(1, n)\n",
    "    gs.update(wspace=0.0, hspace=0.0, top=1.0, bottom=0.0, left=0.0, right=n)\n",
    "\n",
    "    for i, img in enumerate(generated_images):\n",
    "        ax = plt.subplot(gs[i])\n",
    "        plt.axis(\"off\")\n",
    "        ax.set_xticklabels([])\n",
    "        ax.set_yticklabels([])\n",
    "        ax.set_aspect(\"equal\")\n",
    "        plt.imshow(img.reshape([image_dim, image_dim]))\n",
    "    return"
   ]
  },
  {
   "cell_type": "code",
   "execution_count": 390,
   "metadata": {},
   "outputs": [
    {
     "data": {
      "image/png": "[encoded data removed]",
      "text/plain": [
       "<Figure size 100x1000 with 10 Axes>"
      ]
     },
     "metadata": {},
     "output_type": "display_data"
    }
   ],
   "source": [
    "numbers = np.random.randint(10, size=10)\n",
    "write_numbers(numbers)"
   ]
  },
  {
   "cell_type": "code",
   "execution_count": 393,
   "metadata": {
    "colab": {
     "base_uri": "https://localhost:8080/",
     "height": 538
    },
    "id": "qxu6JFd_adbs",
    "outputId": "4b40279c-2c6c-4acf-e155-7a093fab9a98"
   },
   "outputs": [
    {
     "data": {
      "text/plain": [
       "<matplotlib.image.AxesImage at 0x7f7bb798a560>"
      ]
     },
     "execution_count": 393,
     "metadata": {},
     "output_type": "execute_result"
    },
    {
     "data": {
      "image/png": "[encoded data removed]",
      "text/plain": [
       "<Figure size 2000x850 with 1 Axes>"
      ]
     },
     "metadata": {},
     "output_type": "display_data"
    }
   ],
   "source": [
    "n = 10\n",
    "interpolation_range = (0.0, 1.0)\n",
    "z1 = generate_random_noise_in_range((1, latent_dim), r1=-1, r2=1, dtype=dtype, device=device)\n",
    "z2 = generate_random_noise_in_range((1, latent_dim), r1=-1, r2=1, dtype=dtype, device=device)\n",
    "r1_samples = np.linspace(*interpolation_range, num=n)\n",
    "r2_samples = np.linspace(*interpolation_range, num=n)\n",
    "plt.figure(figsize=(20,8.5))\n",
    "w = 28\n",
    "img = np.zeros((n*w, n*w))\n",
    "for i, r1 in enumerate(r1_samples):\n",
    "    for j, r2 in enumerate(r2_samples):\n",
    "        z_interpolate = torch.mul(z1, r1) + torch.mul(z2, 1 - r2)\n",
    "        labels = torch.cuda.LongTensor([i])\n",
    "        with torch.no_grad():\n",
    "          generated_image = generator(z_interpolate, labels).cpu().view(28, 28)\n",
    "        img[(n - 1 - i) * w : (n - 1 - i + 1) * w, j * w : (j + 1) * w] = generated_image\n",
    "plt.imshow(img, extent=[*interpolation_range, *interpolation_range], cmap='gist_gray')"
   ]
  }
 ],
 "metadata": {
  "accelerator": "GPU",
  "colab": {
   "collapsed_sections": [
    "u_hkjZG0HCNX"
   ],
   "provenance": []
  },
  "gpuClass": "standard",
  "kernelspec": {
   "display_name": "Python 3 (ipykernel)",
   "language": "python",
   "name": "python3"
  },
  "language_info": {
   "codemirror_mode": {
    "name": "ipython",
    "version": 3
   },
   "file_extension": ".py",
   "mimetype": "text/x-python",
   "name": "python",
   "nbconvert_exporter": "python",
   "pygments_lexer": "ipython3",
   "version": "3.10.6"
  }
 },
 "nbformat": 4,
 "nbformat_minor": 4
}
